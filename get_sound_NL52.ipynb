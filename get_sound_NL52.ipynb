{
 "nbformat": 4,
 "nbformat_minor": 2,
 "metadata": {
  "language_info": {
   "name": "python",
   "codemirror_mode": {
    "name": "ipython",
    "version": 3
   },
   "version": "3.7.6-final"
  },
  "orig_nbformat": 2,
  "file_extension": ".py",
  "mimetype": "text/x-python",
  "name": "python",
  "npconvert_exporter": "python",
  "pygments_lexer": "ipython3",
  "version": 3,
  "kernelspec": {
   "name": "python37664bit03221d33064e4baba083022ddbac1d65",
   "display_name": "Python 3.7.6 64-bit"
  }
 },
 "cells": [
  {
   "cell_type": "code",
   "execution_count": 19,
   "metadata": {},
   "outputs": [
    {
     "output_type": "stream",
     "name": "stdout",
     "text": "NL_001_20200312_164918_100dB_0283_0000_ST0001.wav\nNL_001_20200312_165207_100dB_0284_0000_ST0001.wav\nNL_001_20200312_165311_100dB_0285_0000_ST0001.wav\nNL_001_20200312_185302_100dB_0304_0000_ST0001.wav\nNL_001_20200312_185021_100dB_0303_0000_ST0001.wav\nNL_001_20200312_184616_100dB_0302_0000_ST0001.wav\nNL_001_20200312_185515_100dB_0305_0000_ST0001.wav\nNL_001_20200312_183815_100dB_0298_0000_ST0001.wav\nNL_001_20200312_175601_100dB_0291_0000_ST0001.wav\nNL_001_20200312_183518_100dB_0296_0000_ST0001.wav\nNL_001_20200312_183648_100dB_0297_0000_ST0001.wav\nNL_001_20200312_175038_100dB_0290_0000_ST0001.wav\nNL_001_20200312_184107_100dB_0299_0000_ST0001.wav\nNL_001_20200312_172054_100dB_0287_0000_ST0001.wav\nNL_001_20200312_174018_100dB_0289_0000_ST0001.wav\nNL_001_20200312_172634_100dB_0288_0000_ST0001.wav\nNL_001_20200312_171404_100dB_0286_0000_ST0001.wav\nNL_001_20200312_184249_100dB_0300_0000_ST0001.wav\nNL_001_20200312_185936_100dB_0307_0000_ST0001.wav\n0305.wav\n0304.wav\n0306.wav\n0299.wav\n0298.wav\n0307.wav\n0303.wav\n0288.wav\n0289.wav\n0302.wav\n0300.wav\n0301.wav\n0293.wav\n0287.wav\n0286.wav\n0292.wav\n0284.wav\n0290.wav\n0291.wav\n0285.wav\n0295.wav\n0294.wav\n0296.wav\n0283.wav\n0297.wav\n0308.wav\nNL_001_20200312_190219_100dB_0308_0000_ST0001.wav\nNL_001_20200312_185811_100dB_0306_0000_ST0001.wav\nNL_001_20200312_184440_100dB_0301_0000_ST0001.wav\nNL_001_20200312_183404_100dB_0295_0000_ST0001.wav\nNL_001_20200312_181004_100dB_0292_0000_ST0001.wav\nNL_001_20200312_181137_100dB_0293_0000_ST0001.wav\nNL_001_20200312_181518_100dB_0294_0000_ST0001.wav\n"
    }
   ],
   "source": [
    "import os \n",
    "import re\n",
    "import shutil\n",
    "import glob\n",
    "\n",
    "# copy先のディレクトリ\n",
    "DIR ='./waves/'\n",
    "if not os.path.isdir(DIR):\n",
    "    os.mkdir(DIR)\n",
    "\n",
    "# **でファイルとディレクトリ全て指定\n",
    "# recursive=Trueで探索ディレクトリ内で再度探索実行\n",
    "waves = [p for p in glob.glob('./**', recursive=True)\n",
    "       if re.search('.wav', p)]\n",
    "for wav in waves:\n",
    "    name = os.path.basename(wav)\n",
    "    if not name == 'waves':\n",
    "        # print(name)\n",
    "        name = name.split(\"_\")[5] #Autoの後の番号だけ抽出\n",
    "        shutil.copy(wav, DIR + name + '.wav')"
   ]
  },
  {
   "cell_type": "code",
   "execution_count": null,
   "metadata": {},
   "outputs": [],
   "source": []
  }
 ]
}